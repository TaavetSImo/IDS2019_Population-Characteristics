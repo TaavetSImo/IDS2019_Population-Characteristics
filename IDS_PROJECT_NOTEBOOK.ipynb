{
  "nbformat": 4,
  "nbformat_minor": 0,
  "metadata": {
    "colab": {
      "name": "alusfail.ipynb",
      "provenance": [],
      "collapsed_sections": [],
      "toc_visible": true
    },
    "kernelspec": {
      "name": "python3",
      "display_name": "Python 3"
    }
  },
  "cells": [
    {
      "cell_type": "markdown",
      "metadata": {
        "id": "rFY78rfCMcl7",
        "colab_type": "text"
      },
      "source": [
        "# IDS 2019 PROJECT"
      ]
    },
    {
      "cell_type": "code",
      "metadata": {
        "id": "7HVhvP1BVLZm",
        "colab_type": "code",
        "colab": {}
      },
      "source": [
        "# Import block\n",
        "\n",
        "import numpy as np\n",
        "import pandas as pd"
      ],
      "execution_count": 0,
      "outputs": []
    },
    {
      "cell_type": "code",
      "metadata": {
        "id": "DbVtbecd50h1",
        "colab_type": "code",
        "colab": {
          "base_uri": "https://localhost:8080/",
          "height": 124
        },
        "outputId": "d89f53b1-76dc-4dfe-9c6a-3d839e518622"
      },
      "source": [
        "from google.colab import drive\n",
        "drive.mount('/content/drive')\n",
        "\n",
        "path = 'drive/My Drive/Colab Notebooks/IDSProject/'"
      ],
      "execution_count": 2,
      "outputs": [
        {
          "output_type": "stream",
          "text": [
            "Go to this URL in a browser: https://accounts.google.com/o/oauth2/auth?client_id=947318989803-6bn6qk8qdgf4n4g3pfee6491hc0brc4i.apps.googleusercontent.com&redirect_uri=urn%3aietf%3awg%3aoauth%3a2.0%3aoob&response_type=code&scope=email%20https%3a%2f%2fwww.googleapis.com%2fauth%2fdocs.test%20https%3a%2f%2fwww.googleapis.com%2fauth%2fdrive%20https%3a%2f%2fwww.googleapis.com%2fauth%2fdrive.photos.readonly%20https%3a%2f%2fwww.googleapis.com%2fauth%2fpeopleapi.readonly\n",
            "\n",
            "Enter your authorization code:\n",
            "··········\n",
            "Mounted at /content/drive\n"
          ],
          "name": "stdout"
        }
      ]
    },
    {
      "cell_type": "code",
      "metadata": {
        "id": "nEYDvyc2VXng",
        "colab_type": "code",
        "colab": {}
      },
      "source": [
        "#Function for reading and cleaning data\n",
        "\n",
        "def readNClean(name): \n",
        "  my_cols = [str(i) for i in range(65)] # create some row names\n",
        "  data = pd.read_csv(path+name,names=my_cols,header=None, engine=\"python\")\n",
        "\n",
        "  df = data.copy()\n",
        "\n",
        "  df = df.iloc[2:]\n",
        "  df.reset_index(drop=True, inplace=True)\n",
        "\n",
        "\n",
        "\n",
        "  #dropime ebavajalikud indikaatorid \n",
        "  df.drop(df.iloc[:, 1:4], inplace = True, axis = 1)\n",
        "\n",
        "  df = df.T.set_index(0).T\n",
        "\n",
        "  #Transpose DateFrame - Columns to rows\n",
        "  df = df.T\n",
        "\n",
        "\n",
        "  #1st row to header\n",
        "  df.index.names = [None]\n",
        "  new_header = df.iloc[0]\n",
        "  df = df[1:]\n",
        "  df.columns = new_header\n",
        "  \n",
        "  #Remvoing Empty row \n",
        "  df.drop(df.tail(1).index,inplace=True)\n",
        "  #Rounding the values\n",
        "  df = df.astype(float).round(4)\n",
        "\n",
        "  return(df)\n"
      ],
      "execution_count": 0,
      "outputs": []
    },
    {
      "cell_type": "code",
      "metadata": {
        "id": "kJXfBfj3d5r2",
        "colab_type": "code",
        "colab": {}
      },
      "source": [
        "AccessToElecricityTotal = readNClean(\"AccessToElectricityTotal.csv\") \n",
        "AgriculturalLand = readNClean(\"AgriculturalLand.csv\") \n",
        "ForestArea = readNClean(\"ForeastArea.csv\")\n",
        "AirPolutionMicrogramsPerCubicMeter = readNClean(\"AirPolutionMicrogramsPerCubicMeter.csv\") \n",
        "AirTransportFreight = readNClean(\"AirTransportFreight.csv\") \n",
        "RailwayFreight = readNClean(\"RailwayFreight.csv\")\n",
        "CO2 = readNClean(\"CO2Emission.csv\") \n",
        "EmploymentInAgriculture = readNClean(\"EmpAgroculturePercOfTotalILO.csv\")   # spelling mistake in file name\n",
        "EmploymentInIndustry = readNClean(\"EmpIndustryPercOfTotalILO.csv\")\n",
        "EmploymentInServices = readNClean(\"EmpServicesPercOfTotalILO.csv\") \n",
        "Unemployment = readNClean(\"TotalUnemploymentPerc.csv\")\n",
        "EnergyFromCoal = readNClean(\"EnergyCoal.csv\") \n",
        "ElectricPowerTransprotLoss = readNClean(\"ElectricPowerTransprotLossPerc.csv\")\n",
        "EnergyConsumption = readNClean(\"EnergyConsuption.csv\")\n",
        "EnergyImports = readNClean(\"EnergyImportsPercOfTotalUsed.csv\")\n",
        "EnergyFromNaturalGas = readNClean(\"EnergyNaturalGas.csv\")\n",
        "EnergyFromOil = readNClean(\"EnergyOil.csv\")\n",
        "EnergyFromRenewable = readNClean(\"EnergyRenewable.csv\")\n",
        "EnergyFromHydro = readNClean(\"HydroEnergy.csv\")\n",
        "EnergyFromNuclear = readNClean(\"NuclearEnergy.csv\")\n",
        "ExportPercentageOfGDP = readNClean(\"ExportsPercOfGDP.csv\")\n",
        "LogisticsPerformanceIndex = readNClean(\"LogisticsPerformanceIndex.csv\")\n",
        "TotalPopulation = readNClean(\"TotalPopulation.csv\")\n",
        "PopulationDensity = readNClean(\"PopDensityPerSqrkm.csv\")\n",
        "PopulationLivingInSlums = readNClean(\"PopLivingInSLums.csv\")\n",
        "PriceOfFuel = readNClean(\"PriceOfFuelUSDPerLiter.csv\")\n",
        "NumberOfTourists = readNClean(\"TourismNumberOfArrivals.csv\")\n",
        "UrbanPopulation = readNClean(\"UrbanPopulation.csv\")\n",
        "\n",
        "\n",
        "\n",
        "\n",
        "\n",
        "\n",
        "\n"
      ],
      "execution_count": 0,
      "outputs": []
    }
  ]
}