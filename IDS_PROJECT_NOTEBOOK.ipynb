{
  "nbformat": 4,
  "nbformat_minor": 0,
  "metadata": {
    "colab": {
      "name": "alusfail.ipynb",
      "provenance": [],
      "collapsed_sections": [],
      "toc_visible": true
    },
    "kernelspec": {
      "name": "python3",
      "display_name": "Python 3"
    }
  },
  "cells": [
    {
      "cell_type": "markdown",
      "metadata": {
        "id": "rFY78rfCMcl7",
        "colab_type": "text"
      },
      "source": [
        "# IDS 2019 PROJECT"
      ]
    },
    {
      "cell_type": "code",
      "metadata": {
        "id": "7HVhvP1BVLZm",
        "colab_type": "code",
        "colab": {}
      },
      "source": [
        "# Import block\n",
        "\n",
        "import numpy as np\n",
        "import pandas as pd"
      ],
      "execution_count": 0,
      "outputs": []
    },
    {
      "cell_type": "code",
      "metadata": {
        "id": "DbVtbecd50h1",
        "colab_type": "code",
        "colab": {}
      },
      "source": [
        "#Georgi Pushi proov"
      ],
      "execution_count": 0,
      "outputs": []
    }
  ]
}