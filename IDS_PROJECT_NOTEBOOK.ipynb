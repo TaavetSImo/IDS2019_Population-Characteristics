{
  "nbformat": 4,
  "nbformat_minor": 0,
  "metadata": {
    "colab": {
      "name": "alusfail.ipynb",
      "provenance": [],
      "collapsed_sections": []
    },
    "kernelspec": {
      "name": "python3",
      "display_name": "Python 3"
    }
  },
  "cells": [
    {
      "cell_type": "markdown",
      "metadata": {
        "id": "rFY78rfCMcl7",
        "colab_type": "text"
      },
      "source": [
        "# IDS 2019 PROJECT"
      ]
    },
    {
      "cell_type": "code",
      "metadata": {
        "id": "7HVhvP1BVLZm",
        "colab_type": "code",
        "colab": {}
      },
      "source": [
        "# Work in Progress"
      ],
      "execution_count": 0,
      "outputs": []
    }
  ]
}